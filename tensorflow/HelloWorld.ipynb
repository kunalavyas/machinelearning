# Following code demonstrates basic operations in Python
#Following code can be executed on https://colab.research.google.com

# Print Hello World
print('Hello World !')
# Perform basic mathematical operations
a=3;
b=2;
y=a+b;
print(y)